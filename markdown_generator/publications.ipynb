{
 "cells": [
  {
   "cell_type": "markdown",
   "metadata": {},
   "source": [
    "# Publications markdown generator for academicpages\n",
    "\n",
    "Takes a TSV of publications with metadata and converts them for use with [academicpages.github.io](academicpages.github.io). This is an interactive Jupyter notebook ([see more info here](http://jupyter-notebook-beginner-guide.readthedocs.io/en/latest/what_is_jupyter.html)). The core python code is also in `publications.py`. Run either from the `markdown_generator` folder after replacing `publications.tsv` with one containing your data.\n",
    "\n",
    "TODO: Make this work with BibTex and other databases of citations, rather than Stuart's non-standard TSV format and citation style.\n"
   ]
  },
  {
   "cell_type": "markdown",
   "metadata": {},
   "source": [
    "## Data format\n",
    "\n",
    "The TSV needs to have the following columns: pub_date, title, venue, excerpt, citation, site_url, and paper_url, with a header at the top. \n",
    "\n",
    "- `excerpt` and `paper_url` can be blank, but the others must have values. \n",
    "- `pub_date` must be formatted as YYYY-MM-DD.\n",
    "- `url_slug` will be the descriptive part of the .md file and the permalink URL for the page about the paper. The .md file will be `YYYY-MM-DD-[url_slug].md` and the permalink will be `https://[yourdomain]/publications/YYYY-MM-DD-[url_slug]`\n",
    "\n",
    "This is how the raw file looks (it doesn't look pretty, use a spreadsheet or other program to edit and create)."
   ]
  },
  {
   "cell_type": "markdown",
   "metadata": {},
   "source": [
    "## Import pandas\n",
    "\n",
    "We are using the very handy pandas library for dataframes."
   ]
  },
  {
   "cell_type": "code",
   "execution_count": 1,
   "metadata": {},
   "outputs": [],
   "source": [
    "import pandas as pd"
   ]
  },
  {
   "cell_type": "markdown",
   "metadata": {},
   "source": [
    "## Import TSV\n",
    "\n",
    "Pandas makes this easy with the read_csv function. We are using a TSV, so we specify the separator as a tab, or `\\t`.\n",
    "\n",
    "I found it important to put this data in a tab-separated values format, because there are a lot of commas in this kind of data and comma-separated values can get messed up. However, you can modify the import statement, as pandas also has read_excel(), read_json(), and others."
   ]
  },
  {
   "cell_type": "code",
   "execution_count": 4,
   "metadata": {},
   "outputs": [],
   "source": [
    "publications = pd.read_csv(\"publications.tsv\", sep=\"\\t\", header=0)\n"
   ]
  },
  {
   "cell_type": "code",
   "execution_count": 5,
   "metadata": {},
   "outputs": [
    {
     "data": {
      "text/html": [
       "<div>\n",
       "<style scoped>\n",
       "    .dataframe tbody tr th:only-of-type {\n",
       "        vertical-align: middle;\n",
       "    }\n",
       "\n",
       "    .dataframe tbody tr th {\n",
       "        vertical-align: top;\n",
       "    }\n",
       "\n",
       "    .dataframe thead th {\n",
       "        text-align: right;\n",
       "    }\n",
       "</style>\n",
       "<table border=\"1\" class=\"dataframe\">\n",
       "  <thead>\n",
       "    <tr style=\"text-align: right;\">\n",
       "      <th></th>\n",
       "      <th>7/8/2020</th>\n",
       "      <th>Cellular Sheaves of Lattices and the Tarski Laplacian</th>\n",
       "      <th>arXiv</th>\n",
       "      <th>This paper initiates a discrete Hodge theory for cellular sheaves taking values in a category of lattices and Galois connections. The key development is the Tarski Laplacian, an endomorphism on the cochain complex whose fixed points yield a cohomology that agrees with the global section functor in degree zero. This has immediate applications in consensus and distributed optimization problems over networks and broader potential applications.</th>\n",
       "      <th>Ghrist, R. &amp; H. Riess. (2020). Cellular Sheaves of Lattices and the Tarski Laplacian. &lt;i&gt;arXiv preprint&lt;/i&gt;. Submitted.</th>\n",
       "      <th>tarski-laplacian</th>\n",
       "      <th>https://hansriess.com/files/tarski-laplacian.pdf</th>\n",
       "    </tr>\n",
       "  </thead>\n",
       "  <tbody>\n",
       "    <tr>\n",
       "      <th>0</th>\n",
       "      <td>3/16/2021</td>\n",
       "      <td>A Temporal Logic-based Hierarchial Network Con...</td>\n",
       "      <td>arXiv</td>\n",
       "      <td>In this paper, we consider networks of static ...</td>\n",
       "      <td>Riess, H., Kantaros, Y., Pappas, G., &amp; Ghrist,...</td>\n",
       "      <td>temporal-connectivity</td>\n",
       "      <td>https://arxiv.org/pdf/2009.00669.pdf</td>\n",
       "    </tr>\n",
       "    <tr>\n",
       "      <th>1</th>\n",
       "      <td>10/22/2020</td>\n",
       "      <td>Quiver Signal Processing</td>\n",
       "      <td>arXiv</td>\n",
       "      <td>In this paper we state the basics for a signal...</td>\n",
       "      <td>Parada-Mayorga, A., Riess, H., Ribeiro, A., &amp; ...</td>\n",
       "      <td>qsp</td>\n",
       "      <td>https://arxiv.org/pdf/2010.11525.pdf</td>\n",
       "    </tr>\n",
       "    <tr>\n",
       "      <th>2</th>\n",
       "      <td>11/28/2020</td>\n",
       "      <td>Multidimensional Persistence Module Classifica...</td>\n",
       "      <td>NeurIPS Workshop: Topological Data Analysis an...</td>\n",
       "      <td>Multiparameter persistent homology has been la...</td>\n",
       "      <td>Riess, H., &amp; Hansen, J. (2020). Multidimension...</td>\n",
       "      <td>mulitd-convolution</td>\n",
       "      <td>https://arxiv.org/pdf/2011.14057.pdf</td>\n",
       "    </tr>\n",
       "    <tr>\n",
       "      <th>3</th>\n",
       "      <td>6/27/2020</td>\n",
       "      <td>Moduli Spaces of Morse Function for Persistence</td>\n",
       "      <td>Journal of Applied and Computational Topology</td>\n",
       "      <td>We consider different notions of equivalence f...</td>\n",
       "      <td>Catanzaro, M. J., Curry, J. M., Fasy, B. T., L...</td>\n",
       "      <td>moduli-spaces</td>\n",
       "      <td>https://arxiv.org/pdf/1909.10623.pdf</td>\n",
       "    </tr>\n",
       "  </tbody>\n",
       "</table>\n",
       "</div>"
      ],
      "text/plain": [
       "     7/8/2020 Cellular Sheaves of Lattices and the Tarski Laplacian  \\\n",
       "0   3/16/2021  A Temporal Logic-based Hierarchial Network Con...      \n",
       "1  10/22/2020                           Quiver Signal Processing      \n",
       "2  11/28/2020  Multidimensional Persistence Module Classifica...      \n",
       "3   6/27/2020    Moduli Spaces of Morse Function for Persistence      \n",
       "\n",
       "                                               arXiv  \\\n",
       "0                                              arXiv   \n",
       "1                                              arXiv   \n",
       "2  NeurIPS Workshop: Topological Data Analysis an...   \n",
       "3      Journal of Applied and Computational Topology   \n",
       "\n",
       "  This paper initiates a discrete Hodge theory for cellular sheaves taking values in a category of lattices and Galois connections. The key development is the Tarski Laplacian, an endomorphism on the cochain complex whose fixed points yield a cohomology that agrees with the global section functor in degree zero. This has immediate applications in consensus and distributed optimization problems over networks and broader potential applications.  \\\n",
       "0  In this paper, we consider networks of static ...                                                                                                                                                                                                                                                                                                                                                                                                             \n",
       "1  In this paper we state the basics for a signal...                                                                                                                                                                                                                                                                                                                                                                                                             \n",
       "2  Multiparameter persistent homology has been la...                                                                                                                                                                                                                                                                                                                                                                                                             \n",
       "3  We consider different notions of equivalence f...                                                                                                                                                                                                                                                                                                                                                                                                             \n",
       "\n",
       "  Ghrist, R. & H. Riess. (2020). Cellular Sheaves of Lattices and the Tarski Laplacian. <i>arXiv preprint</i>. Submitted.  \\\n",
       "0  Riess, H., Kantaros, Y., Pappas, G., & Ghrist,...                                                                        \n",
       "1  Parada-Mayorga, A., Riess, H., Ribeiro, A., & ...                                                                        \n",
       "2  Riess, H., & Hansen, J. (2020). Multidimension...                                                                        \n",
       "3  Catanzaro, M. J., Curry, J. M., Fasy, B. T., L...                                                                        \n",
       "\n",
       "        tarski-laplacian https://hansriess.com/files/tarski-laplacian.pdf  \n",
       "0  temporal-connectivity             https://arxiv.org/pdf/2009.00669.pdf  \n",
       "1                    qsp             https://arxiv.org/pdf/2010.11525.pdf  \n",
       "2     mulitd-convolution             https://arxiv.org/pdf/2011.14057.pdf  \n",
       "3          moduli-spaces             https://arxiv.org/pdf/1909.10623.pdf  "
      ]
     },
     "execution_count": 5,
     "metadata": {},
     "output_type": "execute_result"
    }
   ],
   "source": [
    "publications"
   ]
  },
  {
   "cell_type": "code",
   "execution_count": 7,
   "metadata": {},
   "outputs": [],
   "source": [
    "publications.drop(5,axis=0,inplace=True)"
   ]
  },
  {
   "cell_type": "code",
   "execution_count": 8,
   "metadata": {},
   "outputs": [
    {
     "data": {
      "text/html": [
       "<div>\n",
       "<style scoped>\n",
       "    .dataframe tbody tr th:only-of-type {\n",
       "        vertical-align: middle;\n",
       "    }\n",
       "\n",
       "    .dataframe tbody tr th {\n",
       "        vertical-align: top;\n",
       "    }\n",
       "\n",
       "    .dataframe thead th {\n",
       "        text-align: right;\n",
       "    }\n",
       "</style>\n",
       "<table border=\"1\" class=\"dataframe\">\n",
       "  <thead>\n",
       "    <tr style=\"text-align: right;\">\n",
       "      <th></th>\n",
       "      <th>pub_date</th>\n",
       "      <th>title</th>\n",
       "      <th>venue</th>\n",
       "      <th>excerpt</th>\n",
       "      <th>citation</th>\n",
       "      <th>url_slug</th>\n",
       "      <th>paper_url</th>\n",
       "    </tr>\n",
       "  </thead>\n",
       "  <tbody>\n",
       "    <tr>\n",
       "      <th>0</th>\n",
       "      <td>2020-7-8</td>\n",
       "      <td>Cellular Sheaves of Lattices and the Tarski La...</td>\n",
       "      <td>arXiv</td>\n",
       "      <td>This paper initiates a discrete Hodge theory f...</td>\n",
       "      <td>Ghrist, R. &amp; H. Riess. (2020). Cellular Sheave...</td>\n",
       "      <td>tarski-laplacian</td>\n",
       "      <td>https://hansriess.com/files/tarski-laplacian.pdf</td>\n",
       "    </tr>\n",
       "    <tr>\n",
       "      <th>1</th>\n",
       "      <td>2021-3-16</td>\n",
       "      <td>A Temporal Logic-based Hierarchial Network Con...</td>\n",
       "      <td>arXiv</td>\n",
       "      <td>In this paper, we consider networks of static ...</td>\n",
       "      <td>Riess, H., Kantaros, Y., Pappas, G., &amp; Ghrist,...</td>\n",
       "      <td>temporal-connectivity</td>\n",
       "      <td>https://arxiv.org/pdf/2009.00669.pdf</td>\n",
       "    </tr>\n",
       "    <tr>\n",
       "      <th>2</th>\n",
       "      <td>2020-10-22</td>\n",
       "      <td>Quiver Signal Processing</td>\n",
       "      <td>arXiv</td>\n",
       "      <td>In this paper we state the basics for a signal...</td>\n",
       "      <td>Parada-Mayorga, A., Riess, H., Ribeiro, A., &amp; ...</td>\n",
       "      <td>qsp</td>\n",
       "      <td>https://arxiv.org/pdf/2010.11525.pdf</td>\n",
       "    </tr>\n",
       "    <tr>\n",
       "      <th>3</th>\n",
       "      <td>2020-11-28</td>\n",
       "      <td>Multidimensional Persistence Module Classifica...</td>\n",
       "      <td>NeurIPS Workshop: Topological Data Analysis an...</td>\n",
       "      <td>Multiparameter persistent homology has been la...</td>\n",
       "      <td>Riess, H., &amp; Hansen, J. (2020). Multidimension...</td>\n",
       "      <td>mulitd-convolution</td>\n",
       "      <td>https://arxiv.org/pdf/2011.14057.pdf</td>\n",
       "    </tr>\n",
       "    <tr>\n",
       "      <th>4</th>\n",
       "      <td>2020-6-27</td>\n",
       "      <td>Moduli Spaces of Morse Function for Persistence</td>\n",
       "      <td>Journal of Applied and Computational Topology</td>\n",
       "      <td>We consider different notions of equivalence f...</td>\n",
       "      <td>Catanzaro, M. J., Curry, J. M., Fasy, B. T., L...</td>\n",
       "      <td>moduli-spaces</td>\n",
       "      <td>https://arxiv.org/pdf/1909.10623.pdf</td>\n",
       "    </tr>\n",
       "  </tbody>\n",
       "</table>\n",
       "</div>"
      ],
      "text/plain": [
       "     pub_date                                              title  \\\n",
       "0    2020-7-8  Cellular Sheaves of Lattices and the Tarski La...   \n",
       "1   2021-3-16  A Temporal Logic-based Hierarchial Network Con...   \n",
       "2  2020-10-22                           Quiver Signal Processing   \n",
       "3  2020-11-28  Multidimensional Persistence Module Classifica...   \n",
       "4   2020-6-27    Moduli Spaces of Morse Function for Persistence   \n",
       "\n",
       "                                               venue  \\\n",
       "0                                              arXiv   \n",
       "1                                              arXiv   \n",
       "2                                              arXiv   \n",
       "3  NeurIPS Workshop: Topological Data Analysis an...   \n",
       "4      Journal of Applied and Computational Topology   \n",
       "\n",
       "                                             excerpt  \\\n",
       "0  This paper initiates a discrete Hodge theory f...   \n",
       "1  In this paper, we consider networks of static ...   \n",
       "2  In this paper we state the basics for a signal...   \n",
       "3  Multiparameter persistent homology has been la...   \n",
       "4  We consider different notions of equivalence f...   \n",
       "\n",
       "                                            citation               url_slug  \\\n",
       "0  Ghrist, R. & H. Riess. (2020). Cellular Sheave...       tarski-laplacian   \n",
       "1  Riess, H., Kantaros, Y., Pappas, G., & Ghrist,...  temporal-connectivity   \n",
       "2  Parada-Mayorga, A., Riess, H., Ribeiro, A., & ...                    qsp   \n",
       "3  Riess, H., & Hansen, J. (2020). Multidimension...     mulitd-convolution   \n",
       "4  Catanzaro, M. J., Curry, J. M., Fasy, B. T., L...          moduli-spaces   \n",
       "\n",
       "                                          paper_url  \n",
       "0  https://hansriess.com/files/tarski-laplacian.pdf  \n",
       "1              https://arxiv.org/pdf/2009.00669.pdf  \n",
       "2              https://arxiv.org/pdf/2010.11525.pdf  \n",
       "3              https://arxiv.org/pdf/2011.14057.pdf  \n",
       "4              https://arxiv.org/pdf/1909.10623.pdf  "
      ]
     },
     "execution_count": 8,
     "metadata": {},
     "output_type": "execute_result"
    }
   ],
   "source": [
    "publications"
   ]
  },
  {
   "cell_type": "code",
   "execution_count": 9,
   "metadata": {},
   "outputs": [],
   "source": [
    "publications.loc[5] = ['2021-05-12',\n",
    "'Network Sheaves Valued in Categories of Adjunctions and their Laplacians',\n",
    "'Applied Category Theory 2021 (Extended Abstract)',\n",
    "'We report past and ongoing efforts to compute (global) sections of cellular sheaves valued in categories of adjunctions. First, we discuss previous work on sheaves valued in the category of complete lattices and Galois connections. Then, we survey ongoing efforts to generalize the fixed point theorem (Theorem 1) to (i) the category of (sufficiently small) categories and adjunctions, and (ii) the category of ordered monoid -enriched categories and adjunctions.',\n",
    "'Riess, H., North, P.R., Ghrist, R. (2021). Nework Sheaves Valued in Categories of Adjunction and their Laplacians.',\n",
    "'adjunctions',\n",
    "'https://hansriess.com/files/adjunctions.pdf']"
   ]
  },
  {
   "cell_type": "code",
   "execution_count": 17,
   "metadata": {},
   "outputs": [],
   "source": [
    "publications['venue'][5] = 'Extended Abstract'"
   ]
  },
  {
   "cell_type": "code",
   "execution_count": 4,
   "metadata": {},
   "outputs": [],
   "source": [
    "publications.to_csv(\"publications.tsv\", sep=\"\\t\", index=False)"
   ]
  },
  {
   "cell_type": "markdown",
   "metadata": {},
   "source": [
    "## Escape special characters\n",
    "\n",
    "YAML is very picky about how it takes a valid string, so we are replacing single and double quotes (and ampersands) with their HTML encoded equivilents. This makes them look not so readable in raw format, but they are parsed and rendered nicely."
   ]
  },
  {
   "cell_type": "code",
   "execution_count": 3,
   "metadata": {},
   "outputs": [],
   "source": [
    "html_escape_table = {\n",
    "    \"&\": \"&amp;\",\n",
    "    '\"': \"&quot;\",\n",
    "    \"'\": \"&apos;\"\n",
    "    }\n",
    "\n",
    "def html_escape(text):\n",
    "    \"\"\"Produce entities within text.\"\"\"\n",
    "    return \"\".join(html_escape_table.get(c,c) for c in text)"
   ]
  },
  {
   "cell_type": "markdown",
   "metadata": {},
   "source": [
    "## Creating the markdown files\n",
    "\n",
    "This is where the heavy lifting is done. This loops through all the rows in the TSV dataframe, then starts to concatentate a big string (```md```) that contains the markdown for each type. It does the YAML metadata first, then does the description for the individual page."
   ]
  },
  {
   "cell_type": "code",
   "execution_count": 6,
   "metadata": {},
   "outputs": [],
   "source": [
    "import os\n",
    "for row, item in publications.iterrows():\n",
    "    \n",
    "    md_filename = str(item.pub_date) + \"-\" + item.url_slug + \".md\"\n",
    "    html_filename = str(item.pub_date) + \"-\" + item.url_slug\n",
    "    year = item.pub_date[:4]\n",
    "    \n",
    "    ## YAML variables\n",
    "    \n",
    "    md = \"---\\ntitle: \\\"\"   + item.title + '\"\\n'\n",
    "    \n",
    "    md += \"\"\"collection: publications\"\"\"\n",
    "    \n",
    "    md += \"\"\"\\npermalink: /publication/\"\"\" + html_filename\n",
    "    \n",
    "    if len(str(item.excerpt)) > 5:\n",
    "        md += \"\\nexcerpt: '\" + html_escape(item.excerpt) + \"'\"\n",
    "    \n",
    "    md += \"\\ndate: \" + str(item.pub_date) \n",
    "    \n",
    "    md += \"\\nvenue: '\" + html_escape(item.venue) + \"'\"\n",
    "    \n",
    "    if len(str(item.paper_url)) > 5:\n",
    "        md += \"\\npaperurl: '\" + item.paper_url + \"'\"\n",
    "    \n",
    "    md += \"\\ncitation: '\" + html_escape(item.citation) + \"'\"\n",
    "    \n",
    "    md += \"\\n---\"\n",
    "    \n",
    "    ## Markdown description for individual page\n",
    "        \n",
    "    if len(str(item.excerpt)) > 5:\n",
    "        md += \"\\n\" + html_escape(item.excerpt) + \"\\n\"\n",
    "    \n",
    "    if len(str(item.paper_url)) > 5:\n",
    "        md += \"\\n[Download paper here](\" + item.paper_url + \")\\n\" \n",
    "        \n",
    "    #md += \"\\nRecommended citation: \" + item.citation\n",
    "    \n",
    "    md_filename = os.path.basename(md_filename)\n",
    "       \n",
    "    with open(\"../_publications/\" + md_filename, 'w') as f:\n",
    "        f.write(md)"
   ]
  },
  {
   "cell_type": "markdown",
   "metadata": {},
   "source": [
    "These files are in the publications directory, one directory below where we're working from."
   ]
  }
 ],
 "metadata": {
  "kernelspec": {
   "display_name": "Python 3",
   "language": "python",
   "name": "python3"
  },
  "language_info": {
   "codemirror_mode": {
    "name": "ipython",
    "version": 3
   },
   "file_extension": ".py",
   "mimetype": "text/x-python",
   "name": "python",
   "nbconvert_exporter": "python",
   "pygments_lexer": "ipython3",
   "version": "3.7.3"
  }
 },
 "nbformat": 4,
 "nbformat_minor": 1
}
